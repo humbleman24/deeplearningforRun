{
 "cells": [
  {
   "cell_type": "code",
   "execution_count": 7,
   "metadata": {},
   "outputs": [
    {
     "name": "stdout",
     "output_type": "stream",
     "text": [
      "Downloading from https://www.kaggle.com/api/v1/datasets/download/andrewmvd/heart-failure-clinical-data?dataset_version_number=1...\n"
     ]
    },
    {
     "name": "stderr",
     "output_type": "stream",
     "text": [
      "100%|██████████| 3.97k/3.97k [00:00<00:00, 2.03MB/s]"
     ]
    },
    {
     "name": "stdout",
     "output_type": "stream",
     "text": [
      "Extracting files...\n",
      "Path to dataset files: C:\\Users\\13710\\.cache\\kagglehub\\datasets\\andrewmvd\\heart-failure-clinical-data\\versions\\1\n"
     ]
    },
    {
     "name": "stderr",
     "output_type": "stream",
     "text": [
      "\n"
     ]
    }
   ],
   "source": [
    "import kagglehub\n",
    "path = kagglehub.dataset_download(\"andrewmvd/heart-failure-clinical-data\")\n",
    "\n",
    "print(\"Path to dataset files:\", path)"
   ]
  },
  {
   "cell_type": "code",
   "execution_count": 8,
   "metadata": {},
   "outputs": [
    {
     "name": "stderr",
     "output_type": "stream",
     "text": [
      "C:\\Users\\13710\\AppData\\Roaming\\Python\\Python39\\site-packages\\pandas\\core\\computation\\expressions.py:21: UserWarning: Pandas requires version '2.8.4' or newer of 'numexpr' (version '2.8.1' currently installed).\n",
      "  from pandas.core.computation.check import NUMEXPR_INSTALLED\n",
      "C:\\Users\\13710\\AppData\\Roaming\\Python\\Python39\\site-packages\\pandas\\core\\arrays\\masked.py:60: UserWarning: Pandas requires version '1.3.6' or newer of 'bottleneck' (version '1.3.4' currently installed).\n",
      "  from pandas.core import (\n"
     ]
    }
   ],
   "source": [
    "import pandas as pd\n",
    "from sklearn.model_selection import train_test_split\n",
    "from sklearn.preprocessing import StandardScaler\n",
    "\n",
    "# Load data\n",
    "data = pd.read_csv('./data/heart_failure_clinical_records_dataset.csv')\n",
    "\n",
    "# Preprocess data\n",
    "features = data.drop(columns=['DEATH_EVENT'])\n",
    "labels = data['DEATH_EVENT']\n",
    "\n",
    "# Split data\n",
    "X_train, X_test, y_train, y_test = train_test_split(features, labels, test_size=0.2, random_state=42)\n",
    "\n",
    "# Standardize features\n",
    "scaler = StandardScaler()\n",
    "X_train = scaler.fit_transform(X_train)\n",
    "X_test = scaler.transform(X_test)"
   ]
  },
  {
   "cell_type": "code",
   "execution_count": 15,
   "metadata": {},
   "outputs": [],
   "source": [
    "import torch\n",
    "import torch.nn as nn\n",
    "import torch.optim as optim\n",
    "\n",
    "class AttentionModel(nn.Module):\n",
    "    def __init__(self, input_dim, hidden_dim, output_dim):\n",
    "        super(AttentionModel, self).__init__()\n",
    "        self.hidden_dim = hidden_dim\n",
    "        self.lstm = nn.LSTM(input_dim, hidden_dim, batch_first=True)\n",
    "        self.attention = nn.Linear(hidden_dim, 1)\n",
    "        self.fc = nn.Linear(hidden_dim, output_dim)\n",
    "    \n",
    "    def forward(self, x):\n",
    "        lstm_out, _ = self.lstm(x)\n",
    "        attn_weights = torch.softmax(self.attention(lstm_out), dim=1)\n",
    "        context_vector = torch.sum(attn_weights * lstm_out, dim=1)\n",
    "        output = self.fc(context_vector)\n",
    "        return output\n",
    "\n",
    "# Hyperparameters\n",
    "input_dim = X_train.shape[1]\n",
    "hidden_dim = 64\n",
    "output_dim = 1\n",
    "\n",
    "# Model, loss function, optimizer\n",
    "model = AttentionModel(input_dim, hidden_dim, output_dim)\n",
    "criterion = nn.BCEWithLogitsLoss()\n",
    "optimizer = optim.Adam(model.parameters(), lr=0.001)"
   ]
  },
  {
   "cell_type": "code",
   "execution_count": 18,
   "metadata": {},
   "outputs": [
    {
     "name": "stdout",
     "output_type": "stream",
     "text": [
      "Epoch [100/2000], Loss: 0.3962\n",
      "Epoch [200/2000], Loss: 0.2714\n",
      "Epoch [300/2000], Loss: 0.1905\n",
      "Epoch [400/2000], Loss: 0.1255\n",
      "Epoch [500/2000], Loss: 0.0790\n",
      "Epoch [600/2000], Loss: 0.0496\n",
      "Epoch [700/2000], Loss: 0.0325\n",
      "Epoch [800/2000], Loss: 0.0224\n",
      "Epoch [900/2000], Loss: 0.0162\n",
      "Epoch [1000/2000], Loss: 0.0122\n",
      "Epoch [1100/2000], Loss: 0.0095\n",
      "Epoch [1200/2000], Loss: 0.0076\n",
      "Epoch [1300/2000], Loss: 0.0062\n",
      "Epoch [1400/2000], Loss: 0.0051\n",
      "Epoch [1500/2000], Loss: 0.0043\n",
      "Epoch [1600/2000], Loss: 0.0037\n",
      "Epoch [1700/2000], Loss: 0.0032\n",
      "Epoch [1800/2000], Loss: 0.0028\n",
      "Epoch [1900/2000], Loss: 0.0024\n",
      "Epoch [2000/2000], Loss: 0.0021\n",
      "Test Loss: 1.5244\n"
     ]
    }
   ],
   "source": [
    "# Convert data to PyTorch tensors\n",
    "X_train_tensor = torch.tensor(X_train, dtype=torch.float32)\n",
    "y_train_tensor = torch.tensor(y_train.values, dtype=torch.float32).unsqueeze(1)\n",
    "X_test_tensor = torch.tensor(X_test, dtype=torch.float32)\n",
    "y_test_tensor = torch.tensor(y_test.values, dtype=torch.float32).unsqueeze(1)\n",
    "if len(X_train_tensor.shape) == 2:\n",
    "    X_train_tensor = X_train_tensor.unsqueeze(1)\n",
    "if len(X_test_tensor.shape) == 2:\n",
    "    X_test_tensor = X_test_tensor.unsqueeze(1)\n",
    "\n",
    "# Training loop\n",
    "num_epochs = 2000\n",
    "for epoch in range(num_epochs):\n",
    "    model.train()\n",
    "    optimizer.zero_grad()\n",
    "    outputs = model(X_train_tensor)\n",
    "    loss = criterion(outputs, y_train_tensor)\n",
    "    loss.backward()\n",
    "    optimizer.step()\n",
    "    \n",
    "    if (epoch+1) % 100 == 0:\n",
    "        print(f'Epoch [{epoch+1}/{num_epochs}], Loss: {loss.item():.4f}')\n",
    "\n",
    "# Evaluation\n",
    "model.eval()\n",
    "with torch.no_grad():\n",
    "    test_outputs = model(X_test_tensor)\n",
    "    test_loss = criterion(test_outputs, y_test_tensor)\n",
    "    print(f'Test Loss: {test_loss.item():.4f}')"
   ]
  },
  {
   "cell_type": "code",
   "execution_count": 19,
   "metadata": {},
   "outputs": [
    {
     "name": "stdout",
     "output_type": "stream",
     "text": [
      "Patient 1: Low risk of hypertension. Maintain a healthy lifestyle.\n",
      "Patient 2: Low risk of hypertension. Maintain a healthy lifestyle.\n",
      "Patient 3: Low risk of hypertension. Maintain a healthy lifestyle.\n",
      "Patient 4: High risk of hypertension. Recommend lifestyle changes and regular monitoring.\n",
      "Patient 5: Low risk of hypertension. Maintain a healthy lifestyle.\n"
     ]
    }
   ],
   "source": [
    "def generate_recommendations(predictions):\n",
    "    recommendations = []\n",
    "    for pred in predictions:\n",
    "        if pred > 0.5:\n",
    "            recommendations.append(\"High risk of hypertension. Recommend lifestyle changes and regular monitoring.\")\n",
    "        else:\n",
    "            recommendations.append(\"Low risk of hypertension. Maintain a healthy lifestyle.\")\n",
    "    return recommendations\n",
    "\n",
    "# Generate predictions\n",
    "with torch.no_grad():\n",
    "    predictions = torch.sigmoid(model(X_test_tensor)).numpy()\n",
    "\n",
    "# Generate recommendations\n",
    "recommendations = generate_recommendations(predictions)\n",
    "for i, rec in enumerate(recommendations[:5]):\n",
    "    print(f'Patient {i+1}: {rec}')"
   ]
  }
 ],
 "metadata": {
  "kernelspec": {
   "display_name": "base",
   "language": "python",
   "name": "python3"
  },
  "language_info": {
   "codemirror_mode": {
    "name": "ipython",
    "version": 3
   },
   "file_extension": ".py",
   "mimetype": "text/x-python",
   "name": "python",
   "nbconvert_exporter": "python",
   "pygments_lexer": "ipython3",
   "version": "3.9.12"
  }
 },
 "nbformat": 4,
 "nbformat_minor": 2
}
