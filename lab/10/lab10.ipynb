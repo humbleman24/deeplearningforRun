{
 "cells": [
  {
   "cell_type": "markdown",
   "metadata": {},
   "source": [
    "# Task 1"
   ]
  },
  {
   "cell_type": "code",
   "execution_count": 1,
   "metadata": {},
   "outputs": [
    {
     "name": "stdout",
     "output_type": "stream",
     "text": [
      "cuda\n"
     ]
    }
   ],
   "source": [
    "import torch\n",
    "import torch.nn as nn\n",
    "import torch.optim as optim\n",
    "from torchvision import datasets, transforms\n",
    "import matplotlib.pyplot as plt\n",
    "\n",
    "device = torch.device(\"cuda\" if torch.cuda.is_available() else \"cpu\")\n",
    "print(f'{device}')\n",
    "\n",
    "transform = transforms.Compose([\n",
    "    transforms.ToTensor(),\n",
    "    transforms.Normalize((0.1307,), (0.3081,))  \n",
    "])\n",
    "\n",
    "train_dataset = datasets.MNIST(root='./data', train=True, download=False, transform=transform)\n",
    "test_dataset = datasets.MNIST(root='./data', train=False, download=False, transform=transform)\n",
    "\n",
    "train_loader = torch.utils.data.DataLoader(train_dataset, batch_size=64, shuffle=True)\n",
    "test_loader = torch.utils.data.DataLoader(test_dataset, batch_size=1000, shuffle=False)\n",
    "\n",
    "class_names = [str(i) for i in range(10)]\n"
   ]
  },
  {
   "cell_type": "code",
   "execution_count": 2,
   "metadata": {},
   "outputs": [],
   "source": [
    "class BaseCNN(nn.Module):\n",
    "    def __init__(self):\n",
    "        super(BaseCNN, self).__init__()\n",
    "        self.conv_layer = nn.Sequential(\n",
    "            nn.Conv2d(in_channels=1, out_channels=32, kernel_size=3, padding=1),\n",
    "            nn.ReLU(),\n",
    "            nn.MaxPool2d(kernel_size=2, stride=2),\n",
    "            \n",
    "            nn.Conv2d(32, 64, 3, padding=1),\n",
    "            nn.ReLU(),\n",
    "            nn.MaxPool2d(2, 2),\n",
    "            \n",
    "            nn.Conv2d(64, 128, 3, padding=1),\n",
    "            nn.ReLU(),\n",
    "            nn.MaxPool2d(2, 2)\n",
    "        )\n",
    "        \n",
    "        self.fc_layer = nn.Sequential(\n",
    "            nn.Flatten(),\n",
    "            nn.Linear(128 * 3 * 3, 128),\n",
    "            nn.ReLU(),\n",
    "            nn.Linear(128, 10)\n",
    "        )\n",
    "        \n",
    "    def forward(self, x):\n",
    "        x = self.conv_layer(x)\n",
    "        x = self.fc_layer(x)\n",
    "        return x\n"
   ]
  },
  {
   "cell_type": "code",
   "execution_count": 4,
   "metadata": {},
   "outputs": [
    {
     "name": "stdout",
     "output_type": "stream",
     "text": [
      "Training with SGD optimizer\n",
      "Epoch [1/10], Loss: 2.283031440747064\n",
      "Epoch [2/10], Loss: 2.2168542881255973\n",
      "Epoch [3/10], Loss: 1.8826503279620905\n",
      "Epoch [4/10], Loss: 0.8610656568681253\n",
      "Epoch [5/10], Loss: 0.47344491700691455\n",
      "Epoch [6/10], Loss: 0.35426543594232757\n",
      "Epoch [7/10], Loss: 0.29161223046370405\n",
      "Epoch [8/10], Loss: 0.2518787252138863\n",
      "Epoch [9/10], Loss: 0.22157782330902528\n",
      "Epoch [10/10], Loss: 0.1981378698955848\n",
      "Training with Adam optimizer\n",
      "Epoch [1/10], Loss: 0.1458149415341321\n",
      "Epoch [2/10], Loss: 0.041797294096002524\n",
      "Epoch [3/10], Loss: 0.030017422189293336\n",
      "Epoch [4/10], Loss: 0.02328468844417293\n",
      "Epoch [5/10], Loss: 0.018765133913005837\n",
      "Epoch [6/10], Loss: 0.014727911020902523\n",
      "Epoch [7/10], Loss: 0.012896599928042434\n",
      "Epoch [8/10], Loss: 0.011153208784938978\n",
      "Epoch [9/10], Loss: 0.010025222429457678\n",
      "Epoch [10/10], Loss: 0.009053865006825403\n",
      "Training with RMSprop optimizer\n",
      "Epoch [1/10], Loss: 0.14458926743281675\n",
      "Epoch [2/10], Loss: 0.04043601254299869\n",
      "Epoch [3/10], Loss: 0.02852238402576563\n",
      "Epoch [4/10], Loss: 0.021734166620396646\n",
      "Epoch [5/10], Loss: 0.016555406307023016\n",
      "Epoch [6/10], Loss: 0.01400531557405952\n",
      "Epoch [7/10], Loss: 0.012124254107974495\n",
      "Epoch [8/10], Loss: 0.010384931411410434\n",
      "Epoch [9/10], Loss: 0.008434047711004573\n",
      "Epoch [10/10], Loss: 0.008197178927248765\n"
     ]
    }
   ],
   "source": [
    "criterion = nn.CrossEntropyLoss()\n",
    "\n",
    "# define a dictionary of optimizers\n",
    "optimizers = {\n",
    "    'SGD': optim.SGD,\n",
    "    'Adam': optim.Adam,\n",
    "    'RMSprop': optim.RMSprop\n",
    "}\n",
    "\n",
    "#\n",
    "def train_model(optimizer_name, optimizer_class, num_epochs=10):\n",
    "    model = BaseCNN().to(device)  # initialize the model everytime\n",
    "    optimizer = optimizer_class(model.parameters(), lr=0.001)\n",
    "    \n",
    "    for epoch in range(num_epochs):\n",
    "        model.train()\n",
    "        running_loss = 0.0\n",
    "        for inputs, labels in train_loader:\n",
    "            inputs, labels = inputs.to(device), labels.to(device)  \n",
    "            optimizer.zero_grad()\n",
    "            outputs = model(inputs)\n",
    "            loss = criterion(outputs, labels)\n",
    "            loss.backward()\n",
    "            optimizer.step()\n",
    "            running_loss += loss.item()\n",
    "        print(f'Epoch [{epoch+1}/{num_epochs}], Loss: {running_loss/len(train_loader)}')\n",
    "\n",
    "# train model with different optimizers\n",
    "for optimizer_name, optimizer_class in optimizers.items():\n",
    "    print(f'Training with {optimizer_name} optimizer')\n",
    "    train_model(optimizer_name, optimizer_class)"
   ]
  },
  {
   "cell_type": "markdown",
   "metadata": {},
   "source": [
    "# Task 2"
   ]
  },
  {
   "cell_type": "code",
   "execution_count": 5,
   "metadata": {},
   "outputs": [],
   "source": [
    "import torch\n",
    "import torch.nn as nn\n",
    "import torch.nn.functional as F\n",
    "\n",
    "class Attention(nn.Module):\n",
    "    def __init__(self, in_channels):\n",
    "        super(Attention, self).__init__()\n",
    "        self.conv1 = nn.Conv2d(in_channels, in_channels // 8, 1)\n",
    "        self.conv2 = nn.Conv2d(in_channels // 8, in_channels, 1)\n",
    "    \n",
    "    def forward(self, x):\n",
    "        attention = self.conv1(x)\n",
    "        attention = F.relu(attention)\n",
    "        attention = self.conv2(attention)\n",
    "        attention = torch.sigmoid(attention)\n",
    "        return x * attention"
   ]
  },
  {
   "cell_type": "code",
   "execution_count": 6,
   "metadata": {},
   "outputs": [],
   "source": [
    "class BaseCNNWithAttention(nn.Module):\n",
    "    def __init__(self):\n",
    "        super(BaseCNNWithAttention, self).__init__()\n",
    "        self.conv_layer = nn.Sequential(\n",
    "            nn.Conv2d(in_channels=1, out_channels=32, kernel_size=3, padding=1),\n",
    "            nn.ReLU(),\n",
    "            nn.MaxPool2d(kernel_size=2, stride=2),\n",
    "            \n",
    "            nn.Conv2d(32, 64, 3, padding=1),\n",
    "            nn.ReLU(),\n",
    "            nn.MaxPool2d(2, 2),\n",
    "            \n",
    "            nn.Conv2d(64, 128, 3, padding=1),\n",
    "            nn.ReLU(),\n",
    "            nn.MaxPool2d(2, 2)\n",
    "        )\n",
    "        \n",
    "        self.attention = Attention(128)\n",
    "        \n",
    "        self.fc_layer = nn.Sequential(\n",
    "            nn.Flatten(),\n",
    "            nn.Linear(128 * 3 * 3, 128),\n",
    "            nn.ReLU(),\n",
    "            nn.Linear(128, 10)\n",
    "        )\n",
    "        \n",
    "    def forward(self, x):\n",
    "        x = self.conv_layer(x)\n",
    "        x = self.attention(x)\n",
    "        x = self.fc_layer(x)\n",
    "        return x"
   ]
  },
  {
   "cell_type": "code",
   "execution_count": 7,
   "metadata": {},
   "outputs": [
    {
     "name": "stdout",
     "output_type": "stream",
     "text": [
      "Epoch [1/10], Loss: 0.1556467492801588\n",
      "Epoch [2/10], Loss: 0.04428254471199938\n",
      "Epoch [3/10], Loss: 0.032054501649997964\n",
      "Epoch [4/10], Loss: 0.024812270265264582\n",
      "Epoch [5/10], Loss: 0.01923090498583014\n",
      "Epoch [6/10], Loss: 0.016725794168893245\n",
      "Epoch [7/10], Loss: 0.013315916987488045\n",
      "Epoch [8/10], Loss: 0.012251585158132825\n",
      "Epoch [9/10], Loss: 0.009430731267675952\n",
      "Epoch [10/10], Loss: 0.009637673136558757\n"
     ]
    }
   ],
   "source": [
    "\n",
    "def train_model(optimizer_name, optimizer_class, num_epochs=10):\n",
    "    model = BaseCNNWithAttention().to(device)  # used the model with attention block\n",
    "    optimizer = optimizer_class(model.parameters(), lr=0.001)\n",
    "    \n",
    "    for epoch in range(num_epochs):\n",
    "        model.train()\n",
    "        running_loss = 0.0\n",
    "        for inputs, labels in train_loader:\n",
    "            inputs, labels = inputs.to(device), labels.to(device) \n",
    "            optimizer.zero_grad()\n",
    "            outputs = model(inputs)\n",
    "            loss = criterion(outputs, labels)\n",
    "            loss.backward()\n",
    "            optimizer.step()\n",
    "            running_loss += loss.item()\n",
    "        print(f'Epoch [{epoch+1}/{num_epochs}], Loss: {running_loss/len(train_loader)}')\n",
    "\n",
    "train_model(optimizer_name, optim.Adam)"
   ]
  },
  {
   "cell_type": "code",
   "execution_count": null,
   "metadata": {},
   "outputs": [],
   "source": []
  }
 ],
 "metadata": {
  "kernelspec": {
   "display_name": "base",
   "language": "python",
   "name": "python3"
  },
  "language_info": {
   "codemirror_mode": {
    "name": "ipython",
    "version": 3
   },
   "file_extension": ".py",
   "mimetype": "text/x-python",
   "name": "python",
   "nbconvert_exporter": "python",
   "pygments_lexer": "ipython3",
   "version": "3.9.12"
  }
 },
 "nbformat": 4,
 "nbformat_minor": 2
}
